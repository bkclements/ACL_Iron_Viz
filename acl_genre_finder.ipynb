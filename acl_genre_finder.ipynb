{
 "cells": [
  {
   "cell_type": "markdown",
   "metadata": {},
   "source": [
    "# ACL Spotify Genre Finder"
   ]
  },
  {
   "cell_type": "markdown",
   "metadata": {},
   "source": [
    "#### The purpose of this workbook is to find all of the genres associated with the artists on the ACL playlist, created using the ACL_Playlist_Creator workbook."
   ]
  },
  {
   "cell_type": "markdown",
   "metadata": {},
   "source": [
    "##### Import Spotify Data and Modules"
   ]
  },
  {
   "cell_type": "code",
   "execution_count": 1,
   "metadata": {},
   "outputs": [],
   "source": [
    "from spotipy.oauth2 import SpotifyClientCredentials\n",
    "import spotipy\n",
    "import pandas as pd"
   ]
  },
  {
   "cell_type": "markdown",
   "metadata": {},
   "source": [
    "##### Initialize Spotify Developer Tools\n"
   ]
  },
  {
   "cell_type": "code",
   "execution_count": 2,
   "metadata": {},
   "outputs": [],
   "source": [
    "client_id = \"hidden\" # I've hidden my ID in order to publish this code\n",
    "client_secret = \"hidden\" # I've hidden my secret in order to publish this code\n",
    "client_credentials_manager = SpotifyClientCredentials(client_id=client_id, client_secret=client_secret)\n",
    "sp = spotipy.Spotify(client_credentials_manager=client_credentials_manager) "
   ]
  },
  {
   "cell_type": "markdown",
   "metadata": {},
   "source": [
    "##### Loop through JSON of playlist info to extract all tracks on the playlist\n"
   ]
  },
  {
   "cell_type": "code",
   "execution_count": 3,
   "metadata": {},
   "outputs": [],
   "source": [
    "def get_playlist_tracks(playlist_id):\n",
    "    '''Spotipy method of returning list of playlist song features stored in a dictionary\n",
    "\n",
    "    Keyword arguments:\n",
    "    playlist_id -- the playlist URI\n",
    "    '''\n",
    "    results = sp.playlist_tracks(playlist_id)\n",
    "    tracks = results['items']\n",
    "    while results['next']:\n",
    "        results = sp.next(results)\n",
    "        tracks.extend(results['items'])\n",
    "    return tracks\n",
    "\n",
    "urn = 'spotify:playlist:0TCMt3rZMXJfOfvNBDf34E' # Spotify code for the playlist\n",
    "\n",
    "playlist = get_playlist_tracks(urn)"
   ]
  },
  {
   "cell_type": "markdown",
   "metadata": {},
   "source": [
    "##### Loop through playlist tracks to extract key elements\n"
   ]
  },
  {
   "cell_type": "code",
   "execution_count": 6,
   "metadata": {},
   "outputs": [],
   "source": [
    "df_list = []\n",
    "genre_df_list = []\n",
    "artist_id_list = []\n",
    "artist_genre_list = []\n",
    "\n",
    "for index, val in enumerate(playlist):\n",
    "    #Collects song information for each track in playlist\n",
    "    track = playlist[index]['track']['name']\n",
    "    track_id = playlist[index]['track']['id']\n",
    "    artist = playlist[index]['track']['album']['artists'][0]['name']\n",
    "    artist_id = playlist[index]['track']['album']['artists'][0]['id']\n",
    "    song_id = 'spotify:track:' + track_id \n",
    "    artist_id = 'spotify:artist:' + artist_id\n",
    "    # Collects up to 50 unique artists for Spotipy artist info API call\n",
    "    if artist_id not in artist_id_list:\n",
    "        artist_id_list.append(artist_id)\n",
    "    if len(artist_id_list) == 50 or index == len(playlist) - 1:\n",
    "        artist_info_dict = sp.artists(artist_id_list)\n",
    "        # Collects artist genre information\n",
    "        for index, val in enumerate(artist_info_dict['artists']):\n",
    "            genres = artist_info_dict['artists'][index]['genres']\n",
    "            artist = artist_info_dict['artists'][index]['name']\n",
    "            artist_genre_list.append([artist, genres])\n",
    "            artist_id_list = []\n",
    "    df_list.append([track, artist, artist_id, track_id])"
   ]
  },
  {
   "cell_type": "markdown",
   "metadata": {},
   "source": [
    "##### Convert playlist features into a dataframe\n"
   ]
  },
  {
   "cell_type": "code",
   "execution_count": 7,
   "metadata": {},
   "outputs": [],
   "source": [
    "df = pd.DataFrame(df_list, columns=['Track', 'Artist', 'Artist ID', 'Track ID'])"
   ]
  },
  {
   "cell_type": "markdown",
   "metadata": {},
   "source": [
    "##### Convert artist genre info into a dataframe\n"
   ]
  },
  {
   "cell_type": "code",
   "execution_count": 8,
   "metadata": {},
   "outputs": [],
   "source": [
    "genre_df = pd.DataFrame(artist_genre_list, columns=['Artist', 'Genre'])"
   ]
  },
  {
   "cell_type": "markdown",
   "metadata": {},
   "source": [
    "##### Merge playlist and genre dataframes\n"
   ]
  },
  {
   "cell_type": "code",
   "execution_count": 9,
   "metadata": {},
   "outputs": [],
   "source": [
    "df = pd.merge(df, genre_df)"
   ]
  },
  {
   "cell_type": "markdown",
   "metadata": {},
   "source": [
    "##### Explode column of genre lists into a new dataframe\n"
   ]
  },
  {
   "cell_type": "code",
   "execution_count": 10,
   "metadata": {},
   "outputs": [],
   "source": [
    "genre_by_artist_df = df.drop_duplicates(subset=['Artist'], keep='first').explode('Genre')[['Artist', 'Genre']].dropna().reset_index(drop=True)\n"
   ]
  },
  {
   "cell_type": "markdown",
   "metadata": {},
   "source": [
    "##### Save genre dataframe as csv in order to merge with origianal artist data"
   ]
  },
  {
   "cell_type": "code",
   "execution_count": 13,
   "metadata": {},
   "outputs": [],
   "source": [
    "genre_by_artist_df.to_csv('ACL_Genre_Text.csv')"
   ]
  }
 ],
 "metadata": {
  "interpreter": {
   "hash": "d1a121ca8190fc418f71e17be0c5a939a2054a35e0947035bdd5ec55edb2d83c"
  },
  "kernelspec": {
   "display_name": "Python 3.9.1 64-bit",
   "name": "python3"
  },
  "language_info": {
   "codemirror_mode": {
    "name": "ipython",
    "version": 3
   },
   "file_extension": ".py",
   "mimetype": "text/x-python",
   "name": "python",
   "nbconvert_exporter": "python",
   "pygments_lexer": "ipython3",
   "version": "3.9.1"
  },
  "orig_nbformat": 4
 },
 "nbformat": 4,
 "nbformat_minor": 2
}
