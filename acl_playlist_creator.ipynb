{
 "cells": [
  {
   "cell_type": "markdown",
   "metadata": {},
   "source": [
    "# ACL Playlist Creation Code"
   ]
  },
  {
   "cell_type": "markdown",
   "metadata": {},
   "source": [
    "#### The purpose of this workbook is to create a playlist of all of the artists who have played at Austin City Limits."
   ]
  },
  {
   "cell_type": "markdown",
   "metadata": {},
   "source": [
    "#### The Artists are stored in a CSV file and imported into the notebook. Using Spotipy, the program searches Spotify for each artist listed in the code. Once found, the code adds the Artist's top song into a created playlist. "
   ]
  },
  {
   "cell_type": "markdown",
   "metadata": {},
   "source": [
    "##### Initialize modules"
   ]
  },
  {
   "cell_type": "code",
   "execution_count": 1,
   "metadata": {},
   "outputs": [],
   "source": [
    "from spotipy.oauth2 import SpotifyClientCredentials\n",
    "import spotipy.util as util\n",
    "import spotipy\n",
    "import pandas as pd"
   ]
  },
  {
   "cell_type": "markdown",
   "metadata": {},
   "source": [
    "##### Initialize Spotify Developer Tools for playlist modification\n"
   ]
  },
  {
   "cell_type": "code",
   "execution_count": 2,
   "metadata": {},
   "outputs": [],
   "source": [
    "client_id = \"hidden\" # I've hidden my ID in order to publish this code\n",
    "client_secret = \"hidden\"# I've hidden my secret in order to publish this code\n",
    "client_credentials_manager = SpotifyClientCredentials(client_id=client_id, client_secret=client_secret)\n",
    "\n",
    "token = util.prompt_for_user_token(\n",
    "        username='1229757239',\n",
    "        scope='playlist-modify-public',\n",
    "        client_id=client_id,\n",
    "        client_secret=client_secret,\n",
    "        redirect_uri='http://localhost:8888/callback')\n",
    "\n",
    "sp = spotipy.Spotify(auth=token,client_credentials_manager=client_credentials_manager)"
   ]
  },
  {
   "cell_type": "markdown",
   "metadata": {},
   "source": [
    "##### Create a dataframe from the Excel file and drop all duplicates for quicker processing"
   ]
  },
  {
   "cell_type": "code",
   "execution_count": 4,
   "metadata": {},
   "outputs": [],
   "source": [
    "df = pd.read_excel(\"ACL_Artists_For_Playlist_Creation.xlsx\")\n",
    "df = df.drop_duplicates(subset=['Artist'])"
   ]
  },
  {
   "cell_type": "markdown",
   "metadata": {},
   "source": [
    "##### Use Spotipy to search for artists and create a playlist based on their top songs"
   ]
  },
  {
   "cell_type": "code",
   "execution_count": 6,
   "metadata": {},
   "outputs": [],
   "source": [
    "artist_uri_list = []\n",
    "track_uri_list = []\n",
    "\n",
    "for artist in df['Artist']:\n",
    "    # Search for artist and store their JSON info in a variable\n",
    "    artist_info = sp.search(artist,limit=1, type='artist')\n",
    "    # Set any unfound artists to 0 for manual addition\n",
    "    if artist_info['artists']['total'] == 0:\n",
    "        artist_uri = 0\n",
    "        top_track_name = ''\n",
    "        top_track_uri = ''\n",
    "    # For all found artists, store their JSON top track info in a variable\n",
    "    else:\n",
    "        artist_uri = artist_info['artists']['items'][0]['uri']\n",
    "        top_track = sp.artist_top_tracks(artist_uri)\n",
    "        # Set any artists without top tracks to 0 for manual addition\n",
    "        if top_track['tracks'] == []:\n",
    "            top_track_name = ''\n",
    "            top_track_uri = ''\n",
    "        # For all found tracks, add the top track to a list\n",
    "        else:\n",
    "            top_track_name = top_track['tracks'][0]['name']\n",
    "            top_track_uri = top_track['tracks'][0]['id']\n",
    "            artist_uri_list.append([artist, artist_uri,top_track_name, top_track_uri])\n",
    "            track_uri_list.append(top_track_uri)\n",
    "            # Once the list reaches 50 tracks, use Spotipy to add the tracks to the playlist and clear the list\n",
    "            if len(track_uri_list) == 50:\n",
    "                sp.user_playlist_add_tracks(user='1229757239',playlist_id='0TCMt3rZMXJfOfvNBDf34E',tracks=track_uri_list)\n",
    "                track_uri_list = []"
   ]
  }
 ],
 "metadata": {
  "interpreter": {
   "hash": "d1a121ca8190fc418f71e17be0c5a939a2054a35e0947035bdd5ec55edb2d83c"
  },
  "kernelspec": {
   "display_name": "Python 3.9.1 64-bit",
   "name": "python3"
  },
  "language_info": {
   "codemirror_mode": {
    "name": "ipython",
    "version": 3
   },
   "file_extension": ".py",
   "mimetype": "text/x-python",
   "name": "python",
   "nbconvert_exporter": "python",
   "pygments_lexer": "ipython3",
   "version": "3.9.1"
  },
  "orig_nbformat": 4
 },
 "nbformat": 4,
 "nbformat_minor": 2
}
